{
    "nbformat_minor": 1, 
    "cells": [
        {
            "source": "# Capstone Final Project ", 
            "cell_type": "markdown", 
            "metadata": {}
        }, 
        {
            "source": "# Introduction/Business Problem", 
            "cell_type": "markdown", 
            "metadata": {}
        }, 
        {
            "source": "Clearly define a problem or an idea of your choice, where you would need to leverage the Foursquare location data to solve or execute. Remember that data science problems always target an audience and are meant to help a group of stakeholders solve a problem, so make sure that you explicitly describe your audience and why they would care about your problem.", 
            "cell_type": "markdown", 
            "metadata": {}
        }, 
        {
            "source": "***", 
            "cell_type": "markdown", 
            "metadata": {}
        }, 
        {
            "source": "### My Final Capstone project is to help who is planning a new business - a shopping center in \" Toronto\". The idea of this capstone project is to help those people to know which location is the right location to open their own shopping center, who are their competitors? and the population income. These question will be answered by using Toronto's Census data which is available for public use combining it with the Foursquare location data in order to analyze them to get correct results. ", 
            "cell_type": "markdown", 
            "metadata": {}
        }, 
        {
            "source": "# Data Will be Used", 
            "cell_type": "markdown", 
            "metadata": {}
        }, 
        {
            "source": "Describe the data that you will be using to solve the problem or execute your idea. Remember that you will need to use the Foursquare location data to solve the problem or execute your idea. You can absolutely use other datasets in combination with the Foursquare location data. So make sure that you provide adequate explanation and discussion, with examples, of the data that you will be using, even if it is only Foursquare location data.", 
            "cell_type": "markdown", 
            "metadata": {}
        }, 
        {
            "source": "*** ", 
            "cell_type": "markdown", 
            "metadata": {}
        }, 
        {
            "source": "### To answer those questions, I will combining the data of Toronto's Census data with the Foursquare location data to collect competitors on the same neighborhood areas. ", 
            "cell_type": "markdown", 
            "metadata": {}
        }, 
        {
            "source": "", 
            "cell_type": "code", 
            "metadata": {}, 
            "outputs": [], 
            "execution_count": null
        }
    ], 
    "metadata": {
        "kernelspec": {
            "display_name": "Python 3.5", 
            "name": "python3", 
            "language": "python"
        }, 
        "language_info": {
            "mimetype": "text/x-python", 
            "nbconvert_exporter": "python", 
            "version": "3.5.5", 
            "name": "python", 
            "file_extension": ".py", 
            "pygments_lexer": "ipython3", 
            "codemirror_mode": {
                "version": 3, 
                "name": "ipython"
            }
        }
    }, 
    "nbformat": 4
}