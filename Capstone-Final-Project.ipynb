{
    "nbformat_minor": 1, 
    "cells": [
        {
            "source": "# Introduction/Business Problem", 
            "cell_type": "markdown", 
            "metadata": {}
        }, 
        {
            "source": "***", 
            "cell_type": "markdown", 
            "metadata": {}
        }, 
        {
            "source": "### My Final Capstone project is to help who is planning a new business - a Souvenir Shop in \"Bethlehem in Palestine\". The idea of this capstone project is to help those people to know which location is the right location to open their own Souvenir Shop, and who are their competitors? these question will be answered by using the Foursquare location data and analyze it in order to get correct results. ", 
            "cell_type": "markdown", 
            "metadata": {}
        }, 
        {
            "source": "# Data Will be Used", 
            "cell_type": "markdown", 
            "metadata": {}
        }, 
        {
            "source": "*** ", 
            "cell_type": "markdown", 
            "metadata": {}
        }, 
        {
            "source": "### To answer those questions, I will combining the data of current souvenir shops in Bethlehem with the data of different kind of facilities that tourist can find in that location such as hotels, shopping places and restaurants to encourage those tourists to visit the new souvenir shop. ", 
            "cell_type": "markdown", 
            "metadata": {}
        }, 
        {
            "source": "# Methodology", 
            "cell_type": "markdown", 
            "metadata": {}
        }, 
        {
            "source": "***", 
            "cell_type": "markdown", 
            "metadata": {}
        }, 
        {
            "source": "### In this project, I will use a few different maps that could help those people to decide the best neighborhood to open a souvenir shop in Bethlehem based on available competitors in that location, and other kind of facilities. In order to do that I will use Foursquare data to display the current souvenir shops in Bethlehem  combining it with the Foursquare data that displays the current facilities in each location in Bethlehem.", 
            "cell_type": "markdown", 
            "metadata": {}
        }
    ], 
    "metadata": {
        "kernelspec": {
            "display_name": "Python 3.5", 
            "name": "python3", 
            "language": "python"
        }, 
        "language_info": {
            "mimetype": "text/x-python", 
            "nbconvert_exporter": "python", 
            "version": "3.5.5", 
            "name": "python", 
            "file_extension": ".py", 
            "pygments_lexer": "ipython3", 
            "codemirror_mode": {
                "version": 3, 
                "name": "ipython"
            }
        }
    }, 
    "nbformat": 4
}