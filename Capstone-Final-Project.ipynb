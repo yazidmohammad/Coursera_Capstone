{
    "nbformat_minor": 1, 
    "cells": [
        {
            "source": "# Capstone Final Project ", 
            "cell_type": "markdown", 
            "metadata": {}
        }, 
        {
            "source": "# Introduction/Business Problem", 
            "cell_type": "markdown", 
            "metadata": {}
        }, 
        {
            "source": "Clearly define a problem or an idea of your choice, where you would need to leverage the Foursquare location data to solve or execute. Remember that data science problems always target an audience and are meant to help a group of stakeholders solve a problem, so make sure that you explicitly describe your audience and why they would care about your problem.", 
            "cell_type": "markdown", 
            "metadata": {}
        }, 
        {
            "source": "***", 
            "cell_type": "markdown", 
            "metadata": {}
        }, 
        {
            "source": "### My Final Capstone project is to help people who are planning to open a new restaurant in London. The idea of this capstone project is to help those people to know the best location in London to have a good revenue at the end. The problem that they face is the big area of London which has 8 different areas as following: South East, South West, West, North, East Central, East, West Central, and North West.\n### At the end of this project, I will determine for them the best area (which one of the 8 areas of London) to be used in London, then I will explore the neighborhoods of that best area in order to have a view of the venue categories and determine the group or groups of neighborhoods to open the restaurant.\n", 
            "cell_type": "markdown", 
            "metadata": {}
        }, 
        {
            "source": "# Data Will be Used", 
            "cell_type": "markdown", 
            "metadata": {}
        }, 
        {
            "source": "Describe the data that you will be using to solve the problem or execute your idea. Remember that you will need to use the Foursquare location data to solve the problem or execute your idea. You can absolutely use other datasets in combination with the Foursquare location data. So make sure that you provide adequate explanation and discussion, with examples, of the data that you will be using, even if it is only Foursquare location data.", 
            "cell_type": "markdown", 
            "metadata": {}
        }, 
        {
            "source": "*** ", 
            "cell_type": "markdown", 
            "metadata": {}
        }, 
        {
            "source": "### To answer those questions, I will get the postcodes of London from wikipedia in order to create the dataframe of London. This dataframe will include different kind of data for example the PostCode, the Name of the Neighborhood, the Area, and the Area Category to determine the 5 areas of London and the process of cleaning the data will be used to clean all venues not included in the PostCode column.\n### Then, I will be combining the data of current restaurants in London areas with the data will be used from the Foursquare location data to extract the venues information for the areas of interest and grouping the neighborhood in 5 clusters based on different numbers of facilities that are there in that area.\n### At the end of this project, I will be going to use folium library to create the necessary maps in order to give a visual view to those people of the best location to be used.\n", 
            "cell_type": "markdown", 
            "metadata": {}
        }, 
        {
            "source": "# Link of Data will be used from Wikipedia", 
            "cell_type": "markdown", 
            "metadata": {}
        }, 
        {
            "source": "***", 
            "cell_type": "markdown", 
            "metadata": {}
        }, 
        {
            "source": "https://en.wikipedia.org/wiki/N_postcode_area  \nhttps://en.wikipedia.org/wiki/SE_postcode_area  \nhttps://en.wikipedia.org/wiki/E_postcode_area  \nhttps://en.wikipedia.org/wiki/EC_postcode_area  \nhttps://en.wikipedia.org/wiki/NW_postcode_area  \nhttps://en.wikipedia.org/wiki/SW_postcode_area  \nhttps://en.wikipedia.org/wiki/W_postcode_area  \nhttps://en.wikipedia.org/wiki/WC_postcode_area                              ", 
            "cell_type": "markdown", 
            "metadata": {}
        }, 
        {
            "source": "# The Data will be used through Foursquare to find the venues nearby our neighborhoods locations ", 
            "cell_type": "markdown", 
            "metadata": {}
        }, 
        {
            "source": "***", 
            "cell_type": "markdown", 
            "metadata": {}
        }, 
        {
            "source": "https://api.foursquare.com/v2/venues/explore?&client_id=K2XW1522IS4DLVWIE2QNSO0YDZ1EBFOFSXECQSCLITPYVR5L&client_secret=QFAGAZDSJ3C145JPPW04A4WF10YVCR24V5JRHWFNDQ11MZBN&v=20180605&ll=51.509865,-0.118092&radius=500&limit=100", 
            "cell_type": "markdown", 
            "metadata": {}
        }, 
        {
            "source": "", 
            "cell_type": "markdown", 
            "metadata": {}
        }, 
        {
            "source": "# Methodology", 
            "cell_type": "markdown", 
            "metadata": {}
        }, 
        {
            "source": "***", 
            "cell_type": "markdown", 
            "metadata": {}
        }, 
        {
            "source": "### In this project, after gathering the required data to built the appropriate dataframe from different data sources as explained above, I will proceed in data analysis to find the best area and neighborhood to open the restaurant. From the Foursquare data I will take into consideration the top common venues in that area, and this can be implemented through frequency statistics and aggregations per area and derive the distributions per area and per venue category. At that point we had to choose the best area of London and we selected the area with the minimum number of restaurants and this will be implemented in two stages the first stage is to selected the top 20 restaurants in the area and the next stage is to select the top 10 restaurant then I will proceed in K-means clustering method in order to group our neighborhoods into 5 clusters based on the venues nearby. Geospatial map view will be used to represent the results. \n### The last step is exploring the derived clusters to choose the cluster that there is a probable opportunity to open restaurant after determining the optimal neighborhood based on the least percentage of restaurants and the distance between the new restaurant to other restaurants in the area and other entertainment venues nearby if any.\n", 
            "cell_type": "markdown", 
            "metadata": {}
        }, 
        {
            "source": "# Results", 
            "cell_type": "markdown", 
            "metadata": {}
        }, 
        {
            "source": "***", 
            "cell_type": "markdown", 
            "metadata": {}
        }, 
        {
            "source": "", 
            "cell_type": "code", 
            "metadata": {}, 
            "outputs": [], 
            "execution_count": null
        }
    ], 
    "metadata": {
        "kernelspec": {
            "display_name": "Python 3.5", 
            "name": "python3", 
            "language": "python"
        }, 
        "language_info": {
            "mimetype": "text/x-python", 
            "nbconvert_exporter": "python", 
            "version": "3.5.5", 
            "name": "python", 
            "pygments_lexer": "ipython3", 
            "file_extension": ".py", 
            "codemirror_mode": {
                "version": 3, 
                "name": "ipython"
            }
        }
    }, 
    "nbformat": 4
}